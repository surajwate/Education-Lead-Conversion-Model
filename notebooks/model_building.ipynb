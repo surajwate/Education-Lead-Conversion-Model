{
 "cells": [
  {
   "cell_type": "code",
   "execution_count": 19,
   "metadata": {},
   "outputs": [],
   "source": [
    "import pandas as pd\n",
    "import numpy as np\n",
    "import matplotlib.pyplot as plt\n",
    "import seaborn as sns\n",
    "\n",
    "from sklearn.linear_model import LogisticRegression\n",
    "from sklearn.model_selection import train_test_split\n",
    "from sklearn.metrics import accuracy_score, confusion_matrix, classification_report"
   ]
  },
  {
   "cell_type": "code",
   "execution_count": 20,
   "metadata": {},
   "outputs": [],
   "source": [
    "import sys\n",
    "from pathlib import Path\n",
    "\n",
    "# Add the src directory to the Python path\n",
    "sys.path.append(str(Path().resolve().parent / 'src'))\n",
    "\n",
    "# Now you can import the clean_data function\n",
    "from data_cleaning import drop_columns, impute_missing_values\n",
    "from data_preprocessing import preprocess_data\n",
    "\n",
    "data = pd.read_csv(\"../input/train_folds.csv\")\n",
    "df = drop_columns(data)"
   ]
  },
  {
   "cell_type": "code",
   "execution_count": 21,
   "metadata": {},
   "outputs": [
    {
     "name": "stderr",
     "output_type": "stream",
     "text": [
      "c:\\Users\\Suraj\\AppData\\Local\\pypoetry\\Cache\\virtualenvs\\lead_scoring-r0dzUjaH-py3.12\\Lib\\site-packages\\sklearn\\preprocessing\\_encoders.py:242: UserWarning: Found unknown categories in columns [1, 3] during transform. These unknown categories will be encoded as all zeros\n",
      "  warnings.warn(\n",
      "c:\\Users\\Suraj\\AppData\\Local\\pypoetry\\Cache\\virtualenvs\\lead_scoring-r0dzUjaH-py3.12\\Lib\\site-packages\\sklearn\\preprocessing\\_encoders.py:242: UserWarning: Found unknown categories in columns [1, 3] during transform. These unknown categories will be encoded as all zeros\n",
      "  warnings.warn(\n"
     ]
    },
    {
     "name": "stdout",
     "output_type": "stream",
     "text": [
      "Accuracy: 0.797077922077922\n",
      "Classification Report:               precision    recall  f1-score   support\n",
      "\n",
      "           0       0.82      0.86      0.84      1150\n",
      "           1       0.75      0.70      0.72       698\n",
      "\n",
      "    accuracy                           0.80      1848\n",
      "   macro avg       0.79      0.78      0.78      1848\n",
      "weighted avg       0.80      0.80      0.80      1848\n",
      "\n",
      "Confusion Matrix: [[985 165]\n",
      " [210 488]]\n",
      "Accuracy: 0.797077922077922\n",
      "Classification Report:               precision    recall  f1-score   support\n",
      "\n",
      "           0       0.82      0.86      0.84      1150\n",
      "           1       0.75      0.70      0.72       698\n",
      "\n",
      "    accuracy                           0.80      1848\n",
      "   macro avg       0.79      0.78      0.78      1848\n",
      "weighted avg       0.80      0.80      0.80      1848\n",
      "\n",
      "Confusion Matrix: [[985 165]\n",
      " [210 488]]\n"
     ]
    },
    {
     "name": "stderr",
     "output_type": "stream",
     "text": [
      "c:\\Users\\Suraj\\AppData\\Local\\pypoetry\\Cache\\virtualenvs\\lead_scoring-r0dzUjaH-py3.12\\Lib\\site-packages\\sklearn\\preprocessing\\_encoders.py:242: UserWarning: Found unknown categories in columns [1, 3] during transform. These unknown categories will be encoded as all zeros\n",
      "  warnings.warn(\n",
      "c:\\Users\\Suraj\\AppData\\Local\\pypoetry\\Cache\\virtualenvs\\lead_scoring-r0dzUjaH-py3.12\\Lib\\site-packages\\sklearn\\preprocessing\\_encoders.py:242: UserWarning: Found unknown categories in columns [1, 3] during transform. These unknown categories will be encoded as all zeros\n",
      "  warnings.warn(\n"
     ]
    },
    {
     "name": "stdout",
     "output_type": "stream",
     "text": [
      "Accuracy: 0.797077922077922\n",
      "Classification Report:               precision    recall  f1-score   support\n",
      "\n",
      "           0       0.82      0.86      0.84      1150\n",
      "           1       0.75      0.70      0.72       698\n",
      "\n",
      "    accuracy                           0.80      1848\n",
      "   macro avg       0.79      0.78      0.78      1848\n",
      "weighted avg       0.80      0.80      0.80      1848\n",
      "\n",
      "Confusion Matrix: [[985 165]\n",
      " [210 488]]\n",
      "Accuracy: 0.797077922077922\n",
      "Classification Report:               precision    recall  f1-score   support\n",
      "\n",
      "           0       0.82      0.86      0.84      1150\n",
      "           1       0.75      0.70      0.72       698\n",
      "\n",
      "    accuracy                           0.80      1848\n",
      "   macro avg       0.79      0.78      0.78      1848\n",
      "weighted avg       0.80      0.80      0.80      1848\n",
      "\n",
      "Confusion Matrix: [[985 165]\n",
      " [210 488]]\n",
      "Accuracy: 0.797077922077922\n",
      "Classification Report:               precision    recall  f1-score   support\n",
      "\n",
      "           0       0.82      0.86      0.84      1150\n",
      "           1       0.75      0.70      0.72       698\n",
      "\n",
      "    accuracy                           0.80      1848\n",
      "   macro avg       0.79      0.78      0.78      1848\n",
      "weighted avg       0.80      0.80      0.80      1848\n",
      "\n",
      "Confusion Matrix: [[985 165]\n",
      " [210 488]]\n"
     ]
    },
    {
     "name": "stderr",
     "output_type": "stream",
     "text": [
      "c:\\Users\\Suraj\\AppData\\Local\\pypoetry\\Cache\\virtualenvs\\lead_scoring-r0dzUjaH-py3.12\\Lib\\site-packages\\sklearn\\preprocessing\\_encoders.py:242: UserWarning: Found unknown categories in columns [1, 3] during transform. These unknown categories will be encoded as all zeros\n",
      "  warnings.warn(\n"
     ]
    }
   ],
   "source": [
    "for fold in range(5):\n",
    "    fold_df = impute_missing_values(df, fold)\n",
    "    fold_df = impute_missing_values(df, 0)\n",
    "    fold_df = preprocess_data(fold_df, fold=0)\n",
    "    # drop the kfold column\n",
    "    fold_df = fold_df.drop(\"kfold\", axis=1)\n",
    "\n",
    "    # Split the data into X and y\n",
    "    X = fold_df.drop(\"Converted\", axis=1)\n",
    "    y = fold_df[\"Converted\"]\n",
    "    # Split the data into test and train\n",
    "    X_train, X_test, y_train, y_test = train_test_split(X, y, test_size=0.2, random_state=42)\n",
    "\n",
    "    # Train the logistic regression model\n",
    "    log_reg = LogisticRegression()\n",
    "    log_reg.fit(X_train, y_train)\n",
    "\n",
    "    # Make predictions\n",
    "    y_pred = log_reg.predict(X_test)\n",
    "\n",
    "    # Evaluate the model\n",
    "    accuracy = accuracy_score(y_test, y_pred)\n",
    "    print(f\"Accuracy: {accuracy}\")\n",
    "    print(f\"Classification Report: {classification_report(y_test, y_pred)}\")\n",
    "    print(f\"Confusion Matrix: {confusion_matrix(y_test, y_pred)}\")"
   ]
  }
 ],
 "metadata": {
  "kernelspec": {
   "display_name": "lead_scoring-r0dzUjaH-py3.12",
   "language": "python",
   "name": "python3"
  },
  "language_info": {
   "codemirror_mode": {
    "name": "ipython",
    "version": 3
   },
   "file_extension": ".py",
   "mimetype": "text/x-python",
   "name": "python",
   "nbconvert_exporter": "python",
   "pygments_lexer": "ipython3",
   "version": "3.12.4"
  }
 },
 "nbformat": 4,
 "nbformat_minor": 2
}
